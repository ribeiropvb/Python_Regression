{
  "nbformat": 4,
  "nbformat_minor": 0,
  "metadata": {
    "colab": {
      "provenance": [],
      "authorship_tag": "ABX9TyPrJD7f5c72X5nPfV7KvK7d",
      "include_colab_link": true
    },
    "kernelspec": {
      "name": "python3",
      "display_name": "Python 3"
    },
    "language_info": {
      "name": "python"
    }
  },
  "cells": [
    {
      "cell_type": "markdown",
      "metadata": {
        "id": "view-in-github",
        "colab_type": "text"
      },
      "source": [
        "<a href=\"https://colab.research.google.com/github/ribeiropvb/Python_Regression/blob/main/Python_Regression.ipynb\" target=\"_parent\"><img src=\"https://colab.research.google.com/assets/colab-badge.svg\" alt=\"Open In Colab\"/></a>"
      ]
    },
    {
      "cell_type": "code",
      "execution_count": 2,
      "metadata": {
        "colab": {
          "base_uri": "https://localhost:8080/"
        },
        "id": "2_Cdeqr_X2Rm",
        "outputId": "3a1a8cb1-f3bf-4c2d-bc61-4bf24da66bce"
      },
      "outputs": [
        {
          "output_type": "stream",
          "name": "stdout",
          "text": [
            "   Petrol tax  Average income  Paved Highways  Proportion of drivers  \\\n",
            "0         9.0            3571            1976                  0.525   \n",
            "1         9.0            4092            1250                  0.572   \n",
            "2         9.0            3865            1586                  0.580   \n",
            "3         7.0            5002            9794                  0.593   \n",
            "\n",
            "   Petrol Consumption  \n",
            "0                 541  \n",
            "1                 524  \n",
            "2                 561  \n",
            "3                 524  \n"
          ]
        }
      ],
      "source": [
        "import pandas as pd\n",
        "\n",
        "# Data\n",
        "data = [\n",
        "    [1, 1, 9.00, 3571, 1976, 0.5250, 541],\n",
        "    [2, 1, 9.00, 4092, 1250, 0.5720, 524],\n",
        "    [3, 1, 9.00, 3865, 1586, 0.5800, 561],\n",
        "    [4, 1, 7.00, 5002, 9794, 0.5930, 524]\n",
        "]\n",
        "\n",
        "# Column names\n",
        "columns = [\"Index\", \"One\", \"Petrol tax\", \"Average income\", \"Paved Highways\",\n",
        "           \"Proportion of drivers\", \"Petrol Consumption\"]\n",
        "\n",
        "# Create DataFrame\n",
        "df = pd.DataFrame(data, columns=columns)\n",
        "df = df.drop([\"Index\", \"One\"], axis=1)\n",
        "\n",
        "# Print the DataFrame\n",
        "print(df)"
      ]
    }
  ]
}